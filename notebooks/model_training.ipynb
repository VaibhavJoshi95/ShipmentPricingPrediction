{
 "cells": [
  {
   "cell_type": "code",
   "execution_count": 1,
   "metadata": {},
   "outputs": [],
   "source": [
    "import pandas as pd"
   ]
  },
  {
   "cell_type": "code",
   "execution_count": 2,
   "metadata": {},
   "outputs": [],
   "source": [
    "df=pd.read_csv('data/SCMS_Datasets.csv')"
   ]
  },
  {
   "cell_type": "code",
   "execution_count": 3,
   "metadata": {},
   "outputs": [
    {
     "data": {
      "text/html": [
       "<div>\n",
       "<style scoped>\n",
       "    .dataframe tbody tr th:only-of-type {\n",
       "        vertical-align: middle;\n",
       "    }\n",
       "\n",
       "    .dataframe tbody tr th {\n",
       "        vertical-align: top;\n",
       "    }\n",
       "\n",
       "    .dataframe thead th {\n",
       "        text-align: right;\n",
       "    }\n",
       "</style>\n",
       "<table border=\"1\" class=\"dataframe\">\n",
       "  <thead>\n",
       "    <tr style=\"text-align: right;\">\n",
       "      <th></th>\n",
       "      <th>Unnamed: 0</th>\n",
       "      <th>Country</th>\n",
       "      <th>Shipment Mode</th>\n",
       "      <th>Qauntity_of_pack</th>\n",
       "      <th>Pack Price</th>\n",
       "      <th>Weight (Kilograms)</th>\n",
       "      <th>Freight_Cost_USD</th>\n",
       "      <th>Product_Insurance_USD</th>\n",
       "    </tr>\n",
       "  </thead>\n",
       "  <tbody>\n",
       "    <tr>\n",
       "      <th>0</th>\n",
       "      <td>0</td>\n",
       "      <td>Rwanda</td>\n",
       "      <td>Air</td>\n",
       "      <td>100</td>\n",
       "      <td>0.01</td>\n",
       "      <td>99.0</td>\n",
       "      <td>0.75</td>\n",
       "      <td>0.02</td>\n",
       "    </tr>\n",
       "    <tr>\n",
       "      <th>1</th>\n",
       "      <td>1</td>\n",
       "      <td>Vietnam</td>\n",
       "      <td>Air</td>\n",
       "      <td>60</td>\n",
       "      <td>7.00</td>\n",
       "      <td>148.0</td>\n",
       "      <td>14.36</td>\n",
       "      <td>5.49</td>\n",
       "    </tr>\n",
       "    <tr>\n",
       "      <th>2</th>\n",
       "      <td>2</td>\n",
       "      <td>Vietnam</td>\n",
       "      <td>Air</td>\n",
       "      <td>30</td>\n",
       "      <td>23.26</td>\n",
       "      <td>55.0</td>\n",
       "      <td>17.72</td>\n",
       "      <td>10.73</td>\n",
       "    </tr>\n",
       "    <tr>\n",
       "      <th>3</th>\n",
       "      <td>3</td>\n",
       "      <td>Côte d'Ivoire</td>\n",
       "      <td>Truck</td>\n",
       "      <td>30</td>\n",
       "      <td>13.52</td>\n",
       "      <td>7.0</td>\n",
       "      <td>22.29</td>\n",
       "      <td>0.99</td>\n",
       "    </tr>\n",
       "    <tr>\n",
       "      <th>4</th>\n",
       "      <td>4</td>\n",
       "      <td>Burundi</td>\n",
       "      <td>Air</td>\n",
       "      <td>60</td>\n",
       "      <td>6.52</td>\n",
       "      <td>186.0</td>\n",
       "      <td>29.21</td>\n",
       "      <td>6.37</td>\n",
       "    </tr>\n",
       "  </tbody>\n",
       "</table>\n",
       "</div>"
      ],
      "text/plain": [
       "   Unnamed: 0        Country Shipment Mode  Qauntity_of_pack  Pack Price  \\\n",
       "0           0         Rwanda           Air               100        0.01   \n",
       "1           1        Vietnam           Air                60        7.00   \n",
       "2           2        Vietnam           Air                30       23.26   \n",
       "3           3  Côte d'Ivoire         Truck                30       13.52   \n",
       "4           4        Burundi           Air                60        6.52   \n",
       "\n",
       "   Weight (Kilograms)  Freight_Cost_USD  Product_Insurance_USD  \n",
       "0                99.0              0.75                   0.02  \n",
       "1               148.0             14.36                   5.49  \n",
       "2                55.0             17.72                  10.73  \n",
       "3                 7.0             22.29                   0.99  \n",
       "4               186.0             29.21                   6.37  "
      ]
     },
     "execution_count": 3,
     "metadata": {},
     "output_type": "execute_result"
    }
   ],
   "source": [
    "df.head()"
   ]
  },
  {
   "cell_type": "code",
   "execution_count": 4,
   "metadata": {},
   "outputs": [
    {
     "data": {
      "text/html": [
       "<div>\n",
       "<style scoped>\n",
       "    .dataframe tbody tr th:only-of-type {\n",
       "        vertical-align: middle;\n",
       "    }\n",
       "\n",
       "    .dataframe tbody tr th {\n",
       "        vertical-align: top;\n",
       "    }\n",
       "\n",
       "    .dataframe thead th {\n",
       "        text-align: right;\n",
       "    }\n",
       "</style>\n",
       "<table border=\"1\" class=\"dataframe\">\n",
       "  <thead>\n",
       "    <tr style=\"text-align: right;\">\n",
       "      <th></th>\n",
       "      <th>Country</th>\n",
       "      <th>Shipment Mode</th>\n",
       "      <th>Qauntity_of_pack</th>\n",
       "      <th>Pack Price</th>\n",
       "      <th>Weight (Kilograms)</th>\n",
       "      <th>Freight_Cost_USD</th>\n",
       "      <th>Product_Insurance_USD</th>\n",
       "    </tr>\n",
       "  </thead>\n",
       "  <tbody>\n",
       "    <tr>\n",
       "      <th>0</th>\n",
       "      <td>Rwanda</td>\n",
       "      <td>Air</td>\n",
       "      <td>100</td>\n",
       "      <td>0.01</td>\n",
       "      <td>99.0</td>\n",
       "      <td>0.75</td>\n",
       "      <td>0.02</td>\n",
       "    </tr>\n",
       "    <tr>\n",
       "      <th>1</th>\n",
       "      <td>Vietnam</td>\n",
       "      <td>Air</td>\n",
       "      <td>60</td>\n",
       "      <td>7.00</td>\n",
       "      <td>148.0</td>\n",
       "      <td>14.36</td>\n",
       "      <td>5.49</td>\n",
       "    </tr>\n",
       "    <tr>\n",
       "      <th>2</th>\n",
       "      <td>Vietnam</td>\n",
       "      <td>Air</td>\n",
       "      <td>30</td>\n",
       "      <td>23.26</td>\n",
       "      <td>55.0</td>\n",
       "      <td>17.72</td>\n",
       "      <td>10.73</td>\n",
       "    </tr>\n",
       "    <tr>\n",
       "      <th>3</th>\n",
       "      <td>Côte d'Ivoire</td>\n",
       "      <td>Truck</td>\n",
       "      <td>30</td>\n",
       "      <td>13.52</td>\n",
       "      <td>7.0</td>\n",
       "      <td>22.29</td>\n",
       "      <td>0.99</td>\n",
       "    </tr>\n",
       "    <tr>\n",
       "      <th>4</th>\n",
       "      <td>Burundi</td>\n",
       "      <td>Air</td>\n",
       "      <td>60</td>\n",
       "      <td>6.52</td>\n",
       "      <td>186.0</td>\n",
       "      <td>29.21</td>\n",
       "      <td>6.37</td>\n",
       "    </tr>\n",
       "    <tr>\n",
       "      <th>...</th>\n",
       "      <td>...</td>\n",
       "      <td>...</td>\n",
       "      <td>...</td>\n",
       "      <td>...</td>\n",
       "      <td>...</td>\n",
       "      <td>...</td>\n",
       "      <td>...</td>\n",
       "    </tr>\n",
       "    <tr>\n",
       "      <th>5851</th>\n",
       "      <td>Haiti</td>\n",
       "      <td>Air</td>\n",
       "      <td>30</td>\n",
       "      <td>3.33</td>\n",
       "      <td>16035.0</td>\n",
       "      <td>161712.87</td>\n",
       "      <td>164.50</td>\n",
       "    </tr>\n",
       "    <tr>\n",
       "      <th>5852</th>\n",
       "      <td>Ethiopia</td>\n",
       "      <td>Air</td>\n",
       "      <td>1</td>\n",
       "      <td>24.50</td>\n",
       "      <td>17367.0</td>\n",
       "      <td>161962.32</td>\n",
       "      <td>858.86</td>\n",
       "    </tr>\n",
       "    <tr>\n",
       "      <th>5853</th>\n",
       "      <td>Nigeria</td>\n",
       "      <td>Air Charter</td>\n",
       "      <td>60</td>\n",
       "      <td>7.72</td>\n",
       "      <td>87076.0</td>\n",
       "      <td>194623.44</td>\n",
       "      <td>2541.95</td>\n",
       "    </tr>\n",
       "    <tr>\n",
       "      <th>5854</th>\n",
       "      <td>Kenya</td>\n",
       "      <td>Air</td>\n",
       "      <td>1</td>\n",
       "      <td>30.00</td>\n",
       "      <td>18580.0</td>\n",
       "      <td>241407.27</td>\n",
       "      <td>742.20</td>\n",
       "    </tr>\n",
       "    <tr>\n",
       "      <th>5855</th>\n",
       "      <td>Rwanda</td>\n",
       "      <td>Air</td>\n",
       "      <td>1</td>\n",
       "      <td>24.50</td>\n",
       "      <td>18667.0</td>\n",
       "      <td>289653.20</td>\n",
       "      <td>848.58</td>\n",
       "    </tr>\n",
       "  </tbody>\n",
       "</table>\n",
       "<p>5856 rows × 7 columns</p>\n",
       "</div>"
      ],
      "text/plain": [
       "            Country Shipment Mode  Qauntity_of_pack  Pack Price  \\\n",
       "0            Rwanda           Air               100        0.01   \n",
       "1           Vietnam           Air                60        7.00   \n",
       "2           Vietnam           Air                30       23.26   \n",
       "3     Côte d'Ivoire         Truck                30       13.52   \n",
       "4           Burundi           Air                60        6.52   \n",
       "...             ...           ...               ...         ...   \n",
       "5851          Haiti           Air                30        3.33   \n",
       "5852       Ethiopia           Air                 1       24.50   \n",
       "5853        Nigeria   Air Charter                60        7.72   \n",
       "5854          Kenya           Air                 1       30.00   \n",
       "5855         Rwanda           Air                 1       24.50   \n",
       "\n",
       "      Weight (Kilograms)  Freight_Cost_USD  Product_Insurance_USD  \n",
       "0                   99.0              0.75                   0.02  \n",
       "1                  148.0             14.36                   5.49  \n",
       "2                   55.0             17.72                  10.73  \n",
       "3                    7.0             22.29                   0.99  \n",
       "4                  186.0             29.21                   6.37  \n",
       "...                  ...               ...                    ...  \n",
       "5851             16035.0         161712.87                 164.50  \n",
       "5852             17367.0         161962.32                 858.86  \n",
       "5853             87076.0         194623.44                2541.95  \n",
       "5854             18580.0         241407.27                 742.20  \n",
       "5855             18667.0         289653.20                 848.58  \n",
       "\n",
       "[5856 rows x 7 columns]"
      ]
     },
     "execution_count": 4,
     "metadata": {},
     "output_type": "execute_result"
    }
   ],
   "source": [
    "df.drop(columns='Unnamed: 0')"
   ]
  },
  {
   "cell_type": "code",
   "execution_count": 5,
   "metadata": {},
   "outputs": [
    {
     "data": {
      "text/plain": [
       "Unnamed: 0               0\n",
       "Country                  0\n",
       "Shipment Mode            0\n",
       "Qauntity_of_pack         0\n",
       "Pack Price               0\n",
       "Weight (Kilograms)       0\n",
       "Freight_Cost_USD         0\n",
       "Product_Insurance_USD    0\n",
       "dtype: int64"
      ]
     },
     "execution_count": 5,
     "metadata": {},
     "output_type": "execute_result"
    }
   ],
   "source": [
    "df.isna().sum()"
   ]
  },
  {
   "cell_type": "code",
   "execution_count": 10,
   "metadata": {},
   "outputs": [
    {
     "data": {
      "text/html": [
       "<div>\n",
       "<style scoped>\n",
       "    .dataframe tbody tr th:only-of-type {\n",
       "        vertical-align: middle;\n",
       "    }\n",
       "\n",
       "    .dataframe tbody tr th {\n",
       "        vertical-align: top;\n",
       "    }\n",
       "\n",
       "    .dataframe thead th {\n",
       "        text-align: right;\n",
       "    }\n",
       "</style>\n",
       "<table border=\"1\" class=\"dataframe\">\n",
       "  <thead>\n",
       "    <tr style=\"text-align: right;\">\n",
       "      <th></th>\n",
       "      <th>Country</th>\n",
       "      <th>Shipment Mode</th>\n",
       "      <th>Qauntity_of_pack</th>\n",
       "      <th>Pack Price</th>\n",
       "      <th>Weight (Kilograms)</th>\n",
       "      <th>Freight_Cost_USD</th>\n",
       "      <th>Product_Insurance_USD</th>\n",
       "    </tr>\n",
       "  </thead>\n",
       "  <tbody>\n",
       "    <tr>\n",
       "      <th>0</th>\n",
       "      <td>Rwanda</td>\n",
       "      <td>Air</td>\n",
       "      <td>100</td>\n",
       "      <td>0.01</td>\n",
       "      <td>99.0</td>\n",
       "      <td>0.75</td>\n",
       "      <td>0.02</td>\n",
       "    </tr>\n",
       "    <tr>\n",
       "      <th>1</th>\n",
       "      <td>Vietnam</td>\n",
       "      <td>Air</td>\n",
       "      <td>60</td>\n",
       "      <td>7.00</td>\n",
       "      <td>148.0</td>\n",
       "      <td>14.36</td>\n",
       "      <td>5.49</td>\n",
       "    </tr>\n",
       "    <tr>\n",
       "      <th>2</th>\n",
       "      <td>Vietnam</td>\n",
       "      <td>Air</td>\n",
       "      <td>30</td>\n",
       "      <td>23.26</td>\n",
       "      <td>55.0</td>\n",
       "      <td>17.72</td>\n",
       "      <td>10.73</td>\n",
       "    </tr>\n",
       "    <tr>\n",
       "      <th>3</th>\n",
       "      <td>Côte d'Ivoire</td>\n",
       "      <td>Truck</td>\n",
       "      <td>30</td>\n",
       "      <td>13.52</td>\n",
       "      <td>7.0</td>\n",
       "      <td>22.29</td>\n",
       "      <td>0.99</td>\n",
       "    </tr>\n",
       "    <tr>\n",
       "      <th>4</th>\n",
       "      <td>Burundi</td>\n",
       "      <td>Air</td>\n",
       "      <td>60</td>\n",
       "      <td>6.52</td>\n",
       "      <td>186.0</td>\n",
       "      <td>29.21</td>\n",
       "      <td>6.37</td>\n",
       "    </tr>\n",
       "    <tr>\n",
       "      <th>...</th>\n",
       "      <td>...</td>\n",
       "      <td>...</td>\n",
       "      <td>...</td>\n",
       "      <td>...</td>\n",
       "      <td>...</td>\n",
       "      <td>...</td>\n",
       "      <td>...</td>\n",
       "    </tr>\n",
       "    <tr>\n",
       "      <th>5851</th>\n",
       "      <td>Haiti</td>\n",
       "      <td>Air</td>\n",
       "      <td>30</td>\n",
       "      <td>3.33</td>\n",
       "      <td>16035.0</td>\n",
       "      <td>161712.87</td>\n",
       "      <td>164.50</td>\n",
       "    </tr>\n",
       "    <tr>\n",
       "      <th>5852</th>\n",
       "      <td>Ethiopia</td>\n",
       "      <td>Air</td>\n",
       "      <td>1</td>\n",
       "      <td>24.50</td>\n",
       "      <td>17367.0</td>\n",
       "      <td>161962.32</td>\n",
       "      <td>858.86</td>\n",
       "    </tr>\n",
       "    <tr>\n",
       "      <th>5853</th>\n",
       "      <td>Nigeria</td>\n",
       "      <td>Air Charter</td>\n",
       "      <td>60</td>\n",
       "      <td>7.72</td>\n",
       "      <td>87076.0</td>\n",
       "      <td>194623.44</td>\n",
       "      <td>2541.95</td>\n",
       "    </tr>\n",
       "    <tr>\n",
       "      <th>5854</th>\n",
       "      <td>Kenya</td>\n",
       "      <td>Air</td>\n",
       "      <td>1</td>\n",
       "      <td>30.00</td>\n",
       "      <td>18580.0</td>\n",
       "      <td>241407.27</td>\n",
       "      <td>742.20</td>\n",
       "    </tr>\n",
       "    <tr>\n",
       "      <th>5855</th>\n",
       "      <td>Rwanda</td>\n",
       "      <td>Air</td>\n",
       "      <td>1</td>\n",
       "      <td>24.50</td>\n",
       "      <td>18667.0</td>\n",
       "      <td>289653.20</td>\n",
       "      <td>848.58</td>\n",
       "    </tr>\n",
       "  </tbody>\n",
       "</table>\n",
       "<p>5856 rows × 7 columns</p>\n",
       "</div>"
      ],
      "text/plain": [
       "            Country Shipment Mode  Qauntity_of_pack  Pack Price  \\\n",
       "0            Rwanda           Air               100        0.01   \n",
       "1           Vietnam           Air                60        7.00   \n",
       "2           Vietnam           Air                30       23.26   \n",
       "3     Côte d'Ivoire         Truck                30       13.52   \n",
       "4           Burundi           Air                60        6.52   \n",
       "...             ...           ...               ...         ...   \n",
       "5851          Haiti           Air                30        3.33   \n",
       "5852       Ethiopia           Air                 1       24.50   \n",
       "5853        Nigeria   Air Charter                60        7.72   \n",
       "5854          Kenya           Air                 1       30.00   \n",
       "5855         Rwanda           Air                 1       24.50   \n",
       "\n",
       "      Weight (Kilograms)  Freight_Cost_USD  Product_Insurance_USD  \n",
       "0                   99.0              0.75                   0.02  \n",
       "1                  148.0             14.36                   5.49  \n",
       "2                   55.0             17.72                  10.73  \n",
       "3                    7.0             22.29                   0.99  \n",
       "4                  186.0             29.21                   6.37  \n",
       "...                  ...               ...                    ...  \n",
       "5851             16035.0         161712.87                 164.50  \n",
       "5852             17367.0         161962.32                 858.86  \n",
       "5853             87076.0         194623.44                2541.95  \n",
       "5854             18580.0         241407.27                 742.20  \n",
       "5855             18667.0         289653.20                 848.58  \n",
       "\n",
       "[5856 rows x 7 columns]"
      ]
     },
     "execution_count": 10,
     "metadata": {},
     "output_type": "execute_result"
    }
   ],
   "source": [
    "df"
   ]
  },
  {
   "cell_type": "code",
   "execution_count": 11,
   "metadata": {},
   "outputs": [],
   "source": [
    "X=df.drop(labels=['Freight_Cost_USD'],axis=1)\n",
    "y=df['Freight_Cost_USD']"
   ]
  },
  {
   "cell_type": "code",
   "execution_count": 12,
   "metadata": {},
   "outputs": [
    {
     "data": {
      "text/html": [
       "<div>\n",
       "<style scoped>\n",
       "    .dataframe tbody tr th:only-of-type {\n",
       "        vertical-align: middle;\n",
       "    }\n",
       "\n",
       "    .dataframe tbody tr th {\n",
       "        vertical-align: top;\n",
       "    }\n",
       "\n",
       "    .dataframe thead th {\n",
       "        text-align: right;\n",
       "    }\n",
       "</style>\n",
       "<table border=\"1\" class=\"dataframe\">\n",
       "  <thead>\n",
       "    <tr style=\"text-align: right;\">\n",
       "      <th></th>\n",
       "      <th>Country</th>\n",
       "      <th>Shipment Mode</th>\n",
       "      <th>Qauntity_of_pack</th>\n",
       "      <th>Pack Price</th>\n",
       "      <th>Weight (Kilograms)</th>\n",
       "      <th>Product_Insurance_USD</th>\n",
       "    </tr>\n",
       "  </thead>\n",
       "  <tbody>\n",
       "    <tr>\n",
       "      <th>0</th>\n",
       "      <td>Rwanda</td>\n",
       "      <td>Air</td>\n",
       "      <td>100</td>\n",
       "      <td>0.01</td>\n",
       "      <td>99.0</td>\n",
       "      <td>0.02</td>\n",
       "    </tr>\n",
       "    <tr>\n",
       "      <th>1</th>\n",
       "      <td>Vietnam</td>\n",
       "      <td>Air</td>\n",
       "      <td>60</td>\n",
       "      <td>7.00</td>\n",
       "      <td>148.0</td>\n",
       "      <td>5.49</td>\n",
       "    </tr>\n",
       "    <tr>\n",
       "      <th>2</th>\n",
       "      <td>Vietnam</td>\n",
       "      <td>Air</td>\n",
       "      <td>30</td>\n",
       "      <td>23.26</td>\n",
       "      <td>55.0</td>\n",
       "      <td>10.73</td>\n",
       "    </tr>\n",
       "    <tr>\n",
       "      <th>3</th>\n",
       "      <td>Côte d'Ivoire</td>\n",
       "      <td>Truck</td>\n",
       "      <td>30</td>\n",
       "      <td>13.52</td>\n",
       "      <td>7.0</td>\n",
       "      <td>0.99</td>\n",
       "    </tr>\n",
       "    <tr>\n",
       "      <th>4</th>\n",
       "      <td>Burundi</td>\n",
       "      <td>Air</td>\n",
       "      <td>60</td>\n",
       "      <td>6.52</td>\n",
       "      <td>186.0</td>\n",
       "      <td>6.37</td>\n",
       "    </tr>\n",
       "    <tr>\n",
       "      <th>...</th>\n",
       "      <td>...</td>\n",
       "      <td>...</td>\n",
       "      <td>...</td>\n",
       "      <td>...</td>\n",
       "      <td>...</td>\n",
       "      <td>...</td>\n",
       "    </tr>\n",
       "    <tr>\n",
       "      <th>5851</th>\n",
       "      <td>Haiti</td>\n",
       "      <td>Air</td>\n",
       "      <td>30</td>\n",
       "      <td>3.33</td>\n",
       "      <td>16035.0</td>\n",
       "      <td>164.50</td>\n",
       "    </tr>\n",
       "    <tr>\n",
       "      <th>5852</th>\n",
       "      <td>Ethiopia</td>\n",
       "      <td>Air</td>\n",
       "      <td>1</td>\n",
       "      <td>24.50</td>\n",
       "      <td>17367.0</td>\n",
       "      <td>858.86</td>\n",
       "    </tr>\n",
       "    <tr>\n",
       "      <th>5853</th>\n",
       "      <td>Nigeria</td>\n",
       "      <td>Air Charter</td>\n",
       "      <td>60</td>\n",
       "      <td>7.72</td>\n",
       "      <td>87076.0</td>\n",
       "      <td>2541.95</td>\n",
       "    </tr>\n",
       "    <tr>\n",
       "      <th>5854</th>\n",
       "      <td>Kenya</td>\n",
       "      <td>Air</td>\n",
       "      <td>1</td>\n",
       "      <td>30.00</td>\n",
       "      <td>18580.0</td>\n",
       "      <td>742.20</td>\n",
       "    </tr>\n",
       "    <tr>\n",
       "      <th>5855</th>\n",
       "      <td>Rwanda</td>\n",
       "      <td>Air</td>\n",
       "      <td>1</td>\n",
       "      <td>24.50</td>\n",
       "      <td>18667.0</td>\n",
       "      <td>848.58</td>\n",
       "    </tr>\n",
       "  </tbody>\n",
       "</table>\n",
       "<p>5856 rows × 6 columns</p>\n",
       "</div>"
      ],
      "text/plain": [
       "            Country Shipment Mode  Qauntity_of_pack  Pack Price  \\\n",
       "0            Rwanda           Air               100        0.01   \n",
       "1           Vietnam           Air                60        7.00   \n",
       "2           Vietnam           Air                30       23.26   \n",
       "3     Côte d'Ivoire         Truck                30       13.52   \n",
       "4           Burundi           Air                60        6.52   \n",
       "...             ...           ...               ...         ...   \n",
       "5851          Haiti           Air                30        3.33   \n",
       "5852       Ethiopia           Air                 1       24.50   \n",
       "5853        Nigeria   Air Charter                60        7.72   \n",
       "5854          Kenya           Air                 1       30.00   \n",
       "5855         Rwanda           Air                 1       24.50   \n",
       "\n",
       "      Weight (Kilograms)  Product_Insurance_USD  \n",
       "0                   99.0                   0.02  \n",
       "1                  148.0                   5.49  \n",
       "2                   55.0                  10.73  \n",
       "3                    7.0                   0.99  \n",
       "4                  186.0                   6.37  \n",
       "...                  ...                    ...  \n",
       "5851             16035.0                 164.50  \n",
       "5852             17367.0                 858.86  \n",
       "5853             87076.0                2541.95  \n",
       "5854             18580.0                 742.20  \n",
       "5855             18667.0                 848.58  \n",
       "\n",
       "[5856 rows x 6 columns]"
      ]
     },
     "execution_count": 12,
     "metadata": {},
     "output_type": "execute_result"
    }
   ],
   "source": [
    "X"
   ]
  },
  {
   "cell_type": "code",
   "execution_count": 13,
   "metadata": {},
   "outputs": [
    {
     "data": {
      "text/plain": [
       "0            0.75\n",
       "1           14.36\n",
       "2           17.72\n",
       "3           22.29\n",
       "4           29.21\n",
       "          ...    \n",
       "5851    161712.87\n",
       "5852    161962.32\n",
       "5853    194623.44\n",
       "5854    241407.27\n",
       "5855    289653.20\n",
       "Name: Freight_Cost_USD, Length: 5856, dtype: float64"
      ]
     },
     "execution_count": 13,
     "metadata": {},
     "output_type": "execute_result"
    }
   ],
   "source": [
    "y"
   ]
  },
  {
   "cell_type": "code",
   "execution_count": 71,
   "metadata": {},
   "outputs": [],
   "source": [
    "categorical_columns= X.select_dtypes(include='object').columns\n",
    "numerical_columns= X.select_dtypes(exclude='object').columns"
   ]
  },
  {
   "cell_type": "code",
   "execution_count": 72,
   "metadata": {},
   "outputs": [
    {
     "data": {
      "text/plain": [
       "Index(['Country', 'Shipment Mode'], dtype='object')"
      ]
     },
     "execution_count": 72,
     "metadata": {},
     "output_type": "execute_result"
    }
   ],
   "source": [
    "categorical_columns"
   ]
  },
  {
   "cell_type": "code",
   "execution_count": 73,
   "metadata": {},
   "outputs": [
    {
     "data": {
      "text/plain": [
       "array(['Rwanda', 'Vietnam', \"Côte d'Ivoire\", 'Burundi', 'Mozambique',\n",
       "       'Uganda', 'Zambia', 'Namibia', 'Congo, DRC', 'Kenya', 'Zimbabwe',\n",
       "       'Ethiopia', 'Guyana', 'Nigeria', 'Sudan', 'South Africa',\n",
       "       'Guatemala', 'Ghana', 'Haiti', 'Botswana', 'Pakistan',\n",
       "       'Dominican Republic', 'Liberia', 'Swaziland', 'Afghanistan',\n",
       "       'Cameroon', 'Malawi', 'Lesotho', 'Senegal', 'Tanzania',\n",
       "       'South Sudan', 'Libya', 'Mali', 'Angola', 'Benin', 'Guinea',\n",
       "       'Togo', 'Sierra Leone'], dtype=object)"
      ]
     },
     "execution_count": 73,
     "metadata": {},
     "output_type": "execute_result"
    }
   ],
   "source": [
    "df['Country'].unique()"
   ]
  },
  {
   "cell_type": "code",
   "execution_count": 74,
   "metadata": {},
   "outputs": [
    {
     "data": {
      "text/plain": [
       "array(['Air', 'Truck', 'Air Charter', 'Ocean'], dtype=object)"
      ]
     },
     "execution_count": 74,
     "metadata": {},
     "output_type": "execute_result"
    }
   ],
   "source": [
    "df['Shipment Mode'].unique()"
   ]
  },
  {
   "cell_type": "code",
   "execution_count": 75,
   "metadata": {},
   "outputs": [],
   "source": [
    "country_categories= ['Rwanda', 'Vietnam', 'Côte dIvoire', 'Burundi', 'Mozambique','Uganda', 'Zambia', 'Namibia', 'Congo', 'DRC', 'Kenya', 'Zimbabwe',\n",
    "       'Ethiopia', 'Guyana', 'Nigeria', 'Sudan', 'South Africa','Guatemala', 'Ghana', 'Haiti', 'Botswana', 'Pakistan',\n",
    "       'Dominican Republic', 'Liberia', 'Swaziland', 'Afghanistan','Cameroon', 'Malawi', 'Lesotho', 'Senegal', 'Tanzania',\n",
    "       'South Sudan', 'Libya', 'Mali', 'Angola', 'Benin', 'Guinea','Togo', 'Sierra Leone']"
   ]
  },
  {
   "cell_type": "code",
   "execution_count": 76,
   "metadata": {},
   "outputs": [],
   "source": [
    "Shipment_categories=['Air', 'Truck', 'Air Charter', 'Ocean']"
   ]
  },
  {
   "cell_type": "code",
   "execution_count": 77,
   "metadata": {},
   "outputs": [],
   "source": [
    "from sklearn.impute import SimpleImputer\n",
    "from sklearn.preprocessing import StandardScaler, OrdinalEncoder\n",
    "from sklearn.pipeline import Pipeline\n",
    "from sklearn.compose import ColumnTransformer"
   ]
  },
  {
   "cell_type": "code",
   "execution_count": 83,
   "metadata": {},
   "outputs": [],
   "source": [
    "numerical_pipeline= Pipeline(\n",
    "    steps=[\n",
    "        ('imputer',SimpleImputer(strategy='median')),\n",
    "        ('scaler',StandardScaler())\n",
    "    ]\n",
    ")\n",
    "\n",
    "categorical_pipeline=Pipeline(\n",
    "    steps=[\n",
    "        ('imputer',SimpleImputer(strategy='most_frequent')),\n",
    "        ('Ordinalencoder',OrdinalEncoder(categories=[country_categories,Shipment_categories],handle_unknown='use_encoded_value',unknown_value=-1)),\n",
    "        ('scaler',StandardScaler())\n",
    "    ]\n",
    ")\n",
    "\n",
    "preprocessor=ColumnTransformer([\n",
    "    ('numerical_pipeline',numerical_pipeline,numerical_columns),\n",
    "    ('categorical_pipeline',categorical_pipeline,categorical_columns)\n",
    "])"
   ]
  },
  {
   "cell_type": "code",
   "execution_count": 84,
   "metadata": {},
   "outputs": [],
   "source": [
    "#TRain Test Split\n"
   ]
  },
  {
   "cell_type": "code",
   "execution_count": 85,
   "metadata": {},
   "outputs": [],
   "source": [
    "from sklearn.model_selection import train_test_split"
   ]
  },
  {
   "cell_type": "code",
   "execution_count": 86,
   "metadata": {},
   "outputs": [],
   "source": [
    "X_train,X_test,y_train,y_test= train_test_split(X,y,test_size=0.3,random_state=42)"
   ]
  },
  {
   "cell_type": "code",
   "execution_count": 87,
   "metadata": {},
   "outputs": [
    {
     "data": {
      "text/plain": [
       "array([[-0.58549207, -0.30530358, -0.2622123 , -0.24497861, -0.66732832,\n",
       "         0.59803874],\n",
       "       [-0.95344942,  0.01211954, -0.06859741, -0.34303418, -1.10388879,\n",
       "        -0.60360871],\n",
       "       [ 2.07902664, -0.1919075 , -0.43709468, -0.51702356, -1.21302891,\n",
       "        -0.60360871],\n",
       "       ...,\n",
       "       [-0.71237392,  0.17319352, -0.090885  ,  0.37184352, -0.44904808,\n",
       "        -0.60360871],\n",
       "       [ 0.55644452, -0.10814903,  0.06731587,  0.13351478,  0.42407286,\n",
       "         1.79968619],\n",
       "       [ 2.84031771,  0.36862995, -0.44707624, -0.52992037, -0.66732832,\n",
       "        -0.60360871]])"
      ]
     },
     "execution_count": 87,
     "metadata": {},
     "output_type": "execute_result"
    }
   ],
   "source": [
    "preprocessor.fit_transform(X_train)"
   ]
  },
  {
   "cell_type": "code",
   "execution_count": 89,
   "metadata": {},
   "outputs": [],
   "source": [
    "X_train=pd.DataFrame(preprocessor.fit_transform(X_train),\n",
    "                     columns=preprocessor.get_feature_names_out())\n",
    "X_test=pd.DataFrame(preprocessor.transform(X_test),\n",
    "                    columns=preprocessor.get_feature_names_out())"
   ]
  },
  {
   "cell_type": "code",
   "execution_count": 90,
   "metadata": {},
   "outputs": [
    {
     "data": {
      "text/html": [
       "<div>\n",
       "<style scoped>\n",
       "    .dataframe tbody tr th:only-of-type {\n",
       "        vertical-align: middle;\n",
       "    }\n",
       "\n",
       "    .dataframe tbody tr th {\n",
       "        vertical-align: top;\n",
       "    }\n",
       "\n",
       "    .dataframe thead th {\n",
       "        text-align: right;\n",
       "    }\n",
       "</style>\n",
       "<table border=\"1\" class=\"dataframe\">\n",
       "  <thead>\n",
       "    <tr style=\"text-align: right;\">\n",
       "      <th></th>\n",
       "      <th>numerical_pipeline__Qauntity_of_pack</th>\n",
       "      <th>numerical_pipeline__Pack Price</th>\n",
       "      <th>numerical_pipeline__Weight (Kilograms)</th>\n",
       "      <th>numerical_pipeline__Product_Insurance_USD</th>\n",
       "      <th>categorical_pipeline__Country</th>\n",
       "      <th>categorical_pipeline__Shipment Mode</th>\n",
       "    </tr>\n",
       "  </thead>\n",
       "  <tbody>\n",
       "    <tr>\n",
       "      <th>0</th>\n",
       "      <td>-0.585492</td>\n",
       "      <td>-0.305304</td>\n",
       "      <td>-0.262212</td>\n",
       "      <td>-0.244979</td>\n",
       "      <td>-0.667328</td>\n",
       "      <td>0.598039</td>\n",
       "    </tr>\n",
       "    <tr>\n",
       "      <th>1</th>\n",
       "      <td>-0.953449</td>\n",
       "      <td>0.012120</td>\n",
       "      <td>-0.068597</td>\n",
       "      <td>-0.343034</td>\n",
       "      <td>-1.103889</td>\n",
       "      <td>-0.603609</td>\n",
       "    </tr>\n",
       "    <tr>\n",
       "      <th>2</th>\n",
       "      <td>2.079027</td>\n",
       "      <td>-0.191907</td>\n",
       "      <td>-0.437095</td>\n",
       "      <td>-0.517024</td>\n",
       "      <td>-1.213029</td>\n",
       "      <td>-0.603609</td>\n",
       "    </tr>\n",
       "    <tr>\n",
       "      <th>3</th>\n",
       "      <td>-0.953449</td>\n",
       "      <td>-0.020095</td>\n",
       "      <td>0.237139</td>\n",
       "      <td>0.034880</td>\n",
       "      <td>0.205793</td>\n",
       "      <td>-0.603609</td>\n",
       "    </tr>\n",
       "    <tr>\n",
       "      <th>4</th>\n",
       "      <td>-0.585492</td>\n",
       "      <td>-0.299290</td>\n",
       "      <td>0.114762</td>\n",
       "      <td>1.238299</td>\n",
       "      <td>0.424073</td>\n",
       "      <td>1.799686</td>\n",
       "    </tr>\n",
       "  </tbody>\n",
       "</table>\n",
       "</div>"
      ],
      "text/plain": [
       "   numerical_pipeline__Qauntity_of_pack  numerical_pipeline__Pack Price  \\\n",
       "0                             -0.585492                       -0.305304   \n",
       "1                             -0.953449                        0.012120   \n",
       "2                              2.079027                       -0.191907   \n",
       "3                             -0.953449                       -0.020095   \n",
       "4                             -0.585492                       -0.299290   \n",
       "\n",
       "   numerical_pipeline__Weight (Kilograms)  \\\n",
       "0                               -0.262212   \n",
       "1                               -0.068597   \n",
       "2                               -0.437095   \n",
       "3                                0.237139   \n",
       "4                                0.114762   \n",
       "\n",
       "   numerical_pipeline__Product_Insurance_USD  categorical_pipeline__Country  \\\n",
       "0                                  -0.244979                      -0.667328   \n",
       "1                                  -0.343034                      -1.103889   \n",
       "2                                  -0.517024                      -1.213029   \n",
       "3                                   0.034880                       0.205793   \n",
       "4                                   1.238299                       0.424073   \n",
       "\n",
       "   categorical_pipeline__Shipment Mode  \n",
       "0                             0.598039  \n",
       "1                            -0.603609  \n",
       "2                            -0.603609  \n",
       "3                            -0.603609  \n",
       "4                             1.799686  "
      ]
     },
     "execution_count": 90,
     "metadata": {},
     "output_type": "execute_result"
    }
   ],
   "source": [
    "X_train.head()"
   ]
  },
  {
   "cell_type": "code",
   "execution_count": 91,
   "metadata": {},
   "outputs": [],
   "source": [
    "#Model_Training"
   ]
  },
  {
   "cell_type": "code",
   "execution_count": 92,
   "metadata": {},
   "outputs": [],
   "source": [
    "from sklearn.linear_model import LinearRegression,Lasso,Ridge,ElasticNet\n",
    "from sklearn.metrics import r2_score,mean_absolute_error,mean_squared_error"
   ]
  },
  {
   "cell_type": "code",
   "execution_count": 93,
   "metadata": {},
   "outputs": [
    {
     "data": {
      "text/html": [
       "<style>#sk-container-id-1 {color: black;}#sk-container-id-1 pre{padding: 0;}#sk-container-id-1 div.sk-toggleable {background-color: white;}#sk-container-id-1 label.sk-toggleable__label {cursor: pointer;display: block;width: 100%;margin-bottom: 0;padding: 0.3em;box-sizing: border-box;text-align: center;}#sk-container-id-1 label.sk-toggleable__label-arrow:before {content: \"▸\";float: left;margin-right: 0.25em;color: #696969;}#sk-container-id-1 label.sk-toggleable__label-arrow:hover:before {color: black;}#sk-container-id-1 div.sk-estimator:hover label.sk-toggleable__label-arrow:before {color: black;}#sk-container-id-1 div.sk-toggleable__content {max-height: 0;max-width: 0;overflow: hidden;text-align: left;background-color: #f0f8ff;}#sk-container-id-1 div.sk-toggleable__content pre {margin: 0.2em;color: black;border-radius: 0.25em;background-color: #f0f8ff;}#sk-container-id-1 input.sk-toggleable__control:checked~div.sk-toggleable__content {max-height: 200px;max-width: 100%;overflow: auto;}#sk-container-id-1 input.sk-toggleable__control:checked~label.sk-toggleable__label-arrow:before {content: \"▾\";}#sk-container-id-1 div.sk-estimator input.sk-toggleable__control:checked~label.sk-toggleable__label {background-color: #d4ebff;}#sk-container-id-1 div.sk-label input.sk-toggleable__control:checked~label.sk-toggleable__label {background-color: #d4ebff;}#sk-container-id-1 input.sk-hidden--visually {border: 0;clip: rect(1px 1px 1px 1px);clip: rect(1px, 1px, 1px, 1px);height: 1px;margin: -1px;overflow: hidden;padding: 0;position: absolute;width: 1px;}#sk-container-id-1 div.sk-estimator {font-family: monospace;background-color: #f0f8ff;border: 1px dotted black;border-radius: 0.25em;box-sizing: border-box;margin-bottom: 0.5em;}#sk-container-id-1 div.sk-estimator:hover {background-color: #d4ebff;}#sk-container-id-1 div.sk-parallel-item::after {content: \"\";width: 100%;border-bottom: 1px solid gray;flex-grow: 1;}#sk-container-id-1 div.sk-label:hover label.sk-toggleable__label {background-color: #d4ebff;}#sk-container-id-1 div.sk-serial::before {content: \"\";position: absolute;border-left: 1px solid gray;box-sizing: border-box;top: 0;bottom: 0;left: 50%;z-index: 0;}#sk-container-id-1 div.sk-serial {display: flex;flex-direction: column;align-items: center;background-color: white;padding-right: 0.2em;padding-left: 0.2em;position: relative;}#sk-container-id-1 div.sk-item {position: relative;z-index: 1;}#sk-container-id-1 div.sk-parallel {display: flex;align-items: stretch;justify-content: center;background-color: white;position: relative;}#sk-container-id-1 div.sk-item::before, #sk-container-id-1 div.sk-parallel-item::before {content: \"\";position: absolute;border-left: 1px solid gray;box-sizing: border-box;top: 0;bottom: 0;left: 50%;z-index: -1;}#sk-container-id-1 div.sk-parallel-item {display: flex;flex-direction: column;z-index: 1;position: relative;background-color: white;}#sk-container-id-1 div.sk-parallel-item:first-child::after {align-self: flex-end;width: 50%;}#sk-container-id-1 div.sk-parallel-item:last-child::after {align-self: flex-start;width: 50%;}#sk-container-id-1 div.sk-parallel-item:only-child::after {width: 0;}#sk-container-id-1 div.sk-dashed-wrapped {border: 1px dashed gray;margin: 0 0.4em 0.5em 0.4em;box-sizing: border-box;padding-bottom: 0.4em;background-color: white;}#sk-container-id-1 div.sk-label label {font-family: monospace;font-weight: bold;display: inline-block;line-height: 1.2em;}#sk-container-id-1 div.sk-label-container {text-align: center;}#sk-container-id-1 div.sk-container {/* jupyter's `normalize.less` sets `[hidden] { display: none; }` but bootstrap.min.css set `[hidden] { display: none !important; }` so we also need the `!important` here to be able to override the default hidden behavior on the sphinx rendered scikit-learn.org. See: https://github.com/scikit-learn/scikit-learn/issues/21755 */display: inline-block !important;position: relative;}#sk-container-id-1 div.sk-text-repr-fallback {display: none;}</style><div id=\"sk-container-id-1\" class=\"sk-top-container\"><div class=\"sk-text-repr-fallback\"><pre>LinearRegression()</pre><b>In a Jupyter environment, please rerun this cell to show the HTML representation or trust the notebook. <br />On GitHub, the HTML representation is unable to render, please try loading this page with nbviewer.org.</b></div><div class=\"sk-container\" hidden><div class=\"sk-item\"><div class=\"sk-estimator sk-toggleable\"><input class=\"sk-toggleable__control sk-hidden--visually\" id=\"sk-estimator-id-1\" type=\"checkbox\" checked><label for=\"sk-estimator-id-1\" class=\"sk-toggleable__label sk-toggleable__label-arrow\">LinearRegression</label><div class=\"sk-toggleable__content\"><pre>LinearRegression()</pre></div></div></div></div></div>"
      ],
      "text/plain": [
       "LinearRegression()"
      ]
     },
     "execution_count": 93,
     "metadata": {},
     "output_type": "execute_result"
    }
   ],
   "source": [
    "regression= LinearRegression()\n",
    "regression.fit(X_train,y_train)"
   ]
  },
  {
   "cell_type": "code",
   "execution_count": 94,
   "metadata": {},
   "outputs": [
    {
     "data": {
      "text/plain": [
       "array([ -312.99080371,   385.74070887,  6181.95914367,  2780.62924774,\n",
       "         799.58649092, -1072.30082091])"
      ]
     },
     "execution_count": 94,
     "metadata": {},
     "output_type": "execute_result"
    }
   ],
   "source": [
    "regression.coef_"
   ]
  },
  {
   "cell_type": "code",
   "execution_count": 95,
   "metadata": {},
   "outputs": [
    {
     "data": {
      "text/plain": [
       "11479.064488899732"
      ]
     },
     "execution_count": 95,
     "metadata": {},
     "output_type": "execute_result"
    }
   ],
   "source": [
    "regression.intercept_"
   ]
  },
  {
   "cell_type": "code",
   "execution_count": 96,
   "metadata": {},
   "outputs": [],
   "source": [
    "import numpy as np"
   ]
  },
  {
   "cell_type": "code",
   "execution_count": 97,
   "metadata": {},
   "outputs": [],
   "source": [
    "def evaluate_models(true,predicted):\n",
    "    mae=mean_absolute_error(true,predicted)\n",
    "    mse=mean_squared_error(true,predicted)\n",
    "    rmse=np.sqrt(mean_squared_error(true,predicted))\n",
    "    r2_sqaure=r2_score(true,predicted)\n",
    "    return mae,mse,rmse,r2_sqaure"
   ]
  },
  {
   "cell_type": "code",
   "execution_count": 98,
   "metadata": {},
   "outputs": [
    {
     "name": "stdout",
     "output_type": "stream",
     "text": [
      "LinearRegression\n",
      "Model training Performance\n",
      "RMSE: 13248.714720357118\n",
      "MAE: 8245.465456782986\n",
      "MSE: 175528441.74140742\n",
      "R2-Score: 22.563501075720914\n",
      "===================================\n",
      "\n",
      "\n",
      "Lasso\n",
      "Model training Performance\n",
      "RMSE: 13248.588416227829\n",
      "MAE: 8245.449646471756\n",
      "MSE: 175525095.02260622\n",
      "R2-Score: 22.56497752127172\n",
      "===================================\n",
      "\n",
      "\n",
      "Ridge\n",
      "Model training Performance\n",
      "RMSE: 13248.722864866462\n",
      "MAE: 8245.52420612579\n",
      "MSE: 175528657.55003542\n",
      "R2-Score: 22.56340586912975\n",
      "===================================\n",
      "\n",
      "\n",
      "Elasticnet\n",
      "Model training Performance\n",
      "RMSE: 13368.100439496005\n",
      "MAE: 8420.671493157739\n",
      "MSE: 178706109.36045328\n",
      "R2-Score: 21.161634502288486\n",
      "===================================\n",
      "\n",
      "\n"
     ]
    }
   ],
   "source": [
    "##Train multiple Models\n",
    "\n",
    "models={\n",
    "    'LinearRegression': LinearRegression(),\n",
    "    'Lasso': Lasso(),\n",
    "    'Ridge':Ridge(),\n",
    "    'Elasticnet': ElasticNet()\n",
    "}\n",
    "\n",
    "model_list= []\n",
    "r2_list=[]\n",
    "\n",
    "for i in range(len(list(models))):\n",
    "    model=list(models.values())[i]\n",
    "    model.fit(X_train,y_train)\n",
    "\n",
    "    y_pred = model.predict(X_test)\n",
    "\n",
    "    mae,mse,rmse,r2_square = evaluate_models(y_test,y_pred)\n",
    "\n",
    "    print(list(models.keys())[i])\n",
    "    model_list.append(list(models.keys())[i])\n",
    "\n",
    "    print(\"Model training Performance\")\n",
    "    print(\"RMSE:\",rmse)\n",
    "    print(\"MAE:\",mae)\n",
    "    print(\"MSE:\",mse)\n",
    "    print('R2-Score:', r2_square*100)\n",
    "\n",
    "    r2_list.append(r2_square)\n",
    "\n",
    "    print('='*35)\n",
    "    print('\\n')"
   ]
  },
  {
   "cell_type": "code",
   "execution_count": null,
   "metadata": {},
   "outputs": [],
   "source": []
  }
 ],
 "metadata": {
  "kernelspec": {
   "display_name": "Python 3",
   "language": "python",
   "name": "python3"
  },
  "language_info": {
   "codemirror_mode": {
    "name": "ipython",
    "version": 3
   },
   "file_extension": ".py",
   "mimetype": "text/x-python",
   "name": "python",
   "nbconvert_exporter": "python",
   "pygments_lexer": "ipython3",
   "version": "3.11.5"
  }
 },
 "nbformat": 4,
 "nbformat_minor": 2
}
